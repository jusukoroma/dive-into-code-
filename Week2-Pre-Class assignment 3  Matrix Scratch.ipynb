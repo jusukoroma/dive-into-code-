{
 "cells": [
  {
   "cell_type": "markdown",
   "metadata": {},
   "source": [
    "## [Problem 1] Matrix product is calculated manually"
   ]
  },
  {
   "cell_type": "markdown",
   "metadata": {},
   "source": [
    "$$A =\\begin{bmatrix}-1 & 2 & 3\\\\\n",
    "4 & -5 & 6\\\\7 & 8 & -9\\end{bmatrix}$$,$$B =\\begin{bmatrix}0 & 2 & 1\\\\0 & 2 & -8\\\\2 & 9 & -1\\end{bmatrix}$$,\n",
    "$$AB =\\begin{bmatrix}0+0+6 & -2+4+27 & -1+(-16)+(-3)\\\\0+0+12 & 8+(-10)+54 & 4+40+(-6)\\\\0+0+(-18) & 14+16+(-81) & 7+(-64)+(-9)\\end{bmatrix}$$,$$AB =\\begin{bmatrix}6 & 29 & -20\\\\12 & 52 & 38\\\\-18 & -51 & -48\\end{bmatrix}$$"
   ]
  },
  {
   "cell_type": "markdown",
   "metadata": {},
   "source": [
    "## [Problem 2] Calculation by NumPy function"
   ]
  },
  {
   "cell_type": "code",
   "execution_count": 67,
   "metadata": {},
   "outputs": [
    {
     "name": "stdout",
     "output_type": "stream",
     "text": [
      "[[  6  29 -20]\n",
      " [ 12  52  38]\n",
      " [-18 -51 -48]]\n"
     ]
    }
   ],
   "source": [
    "#USING MATMUL()\n",
    "import numpy as np\n",
    "a_ndarray = np.array([[-1, 2, 3], [4, -5, 6], [7, 8, -9]])\n",
    "b_ndarray = np.array([[0, 2, 1], [0, 2, -8], [2, 9, -1]])\n",
    "ab_ndarray = np.matmul(a_ndarray, b_ndarray)\n",
    "print(ab_ndarray)"
   ]
  },
  {
   "cell_type": "code",
   "execution_count": 68,
   "metadata": {},
   "outputs": [
    {
     "name": "stdout",
     "output_type": "stream",
     "text": [
      "[[  6  29 -20]\n",
      " [ 12  52  38]\n",
      " [-18 -51 -48]]\n"
     ]
    }
   ],
   "source": [
    "#using dot()\n",
    "a_ndarray = np.array([[-1, 2, 3], [4, -5, 6], [7, 8, -9]])\n",
    "b_ndarray = np.array([[0, 2, 1], [0, 2, -8], [2, 9, -1]])\n",
    "ab_ndarray = np.dot(a_ndarray, b_ndarray)\n",
    "print(ab_ndarray)"
   ]
  },
  {
   "cell_type": "markdown",
   "metadata": {},
   "source": [
    "### [Problem 3] Implementation of calculation of a certain element"
   ]
  },
  {
   "cell_type": "markdown",
   "metadata": {},
   "source": [
    "1.\tMultiply the (0,0) element $a_{0, 0}$ of matrix A with the (0,0) element $b_{0, 0}$ of matrix B"
   ]
  },
  {
   "cell_type": "code",
   "execution_count": 69,
   "metadata": {},
   "outputs": [
    {
     "data": {
      "text/plain": [
       "0"
      ]
     },
     "execution_count": 69,
     "metadata": {},
     "output_type": "execute_result"
    }
   ],
   "source": [
    "ab = (a_ndarray[0][0]*b_ndarray[0][0])\n",
    "ab"
   ]
  },
  {
   "cell_type": "markdown",
   "metadata": {},
   "source": [
    "2.\tMultiply the (0,1) element $a_{0, 1}$ of matrix A with the (1,0) element $b_{1, 0}$ of matrix B"
   ]
  },
  {
   "cell_type": "code",
   "execution_count": 70,
   "metadata": {},
   "outputs": [
    {
     "data": {
      "text/plain": [
       "0"
      ]
     },
     "execution_count": 70,
     "metadata": {},
     "output_type": "execute_result"
    }
   ],
   "source": [
    "ab = (a_ndarray[0][1]*b_ndarray[1][0])\n",
    "ab"
   ]
  },
  {
   "cell_type": "markdown",
   "metadata": {},
   "source": [
    "3.\tMultiply the (0,2) element $a_{0, 2}$ of matrix A with the (2,0) element $b_{2, 0}$ of matrix B"
   ]
  },
  {
   "cell_type": "code",
   "execution_count": 71,
   "metadata": {},
   "outputs": [
    {
     "data": {
      "text/plain": [
       "6"
      ]
     },
     "execution_count": 71,
     "metadata": {},
     "output_type": "execute_result"
    }
   ],
   "source": [
    "ab = (a_ndarray[0][2]*b_ndarray[2][0])\n",
    "ab"
   ]
  },
  {
   "cell_type": "markdown",
   "metadata": {},
   "source": [
    "4.\tAdd all those values"
   ]
  },
  {
   "cell_type": "code",
   "execution_count": 72,
   "metadata": {},
   "outputs": [
    {
     "data": {
      "text/plain": [
       "6"
      ]
     },
     "execution_count": 72,
     "metadata": {},
     "output_type": "execute_result"
    }
   ],
   "source": [
    "sum_ab = (a_ndarray[0][0]*b_ndarray[0][0])+(a_ndarray[0][1]*b_ndarray[1][0])+(a_ndarray[0][2]*b_ndarray[2][0])\n",
    "\n",
    "sum_ab"
   ]
  },
  {
   "cell_type": "markdown",
   "metadata": {},
   "source": [
    "#### [Problem 4] Creating a function that performs matrix multiplication"
   ]
  },
  {
   "cell_type": "code",
   "execution_count": 73,
   "metadata": {},
   "outputs": [
    {
     "name": "stdout",
     "output_type": "stream",
     "text": [
      "[[  6.  29. -20.]\n",
      " [ 12.  52.  38.]\n",
      " [-18. -51. -48.]]\n"
     ]
    }
   ],
   "source": [
    "def product_of_matrix(a, b):\n",
    "    matrix_ab = np.empty([3,3])\n",
    "    for row1 in range(a.shape[0]):\n",
    "        for column1 in range(b.shape[1]):\n",
    "            matrix_ab[row1][column1] = sum(a[row1, :]*b[:, column1])\n",
    "    return matrix_ab\n",
    "print(product_of_matrix(a_ndarray, b_ndarray))"
   ]
  },
  {
   "cell_type": "markdown",
   "metadata": {},
   "source": [
    "### [Problem 5] Judge the input whose calculation is not defined"
   ]
  },
  {
   "cell_type": "code",
   "execution_count": 74,
   "metadata": {},
   "outputs": [
    {
     "name": "stdout",
     "output_type": "stream",
     "text": [
      "matrices are not aligned\n"
     ]
    }
   ],
   "source": [
    "d_ndarray = np.array([[-1, 2, 3], [4, -5, 6]])\n",
    "e_ndarray = np.array([[-9, 8, 7], [6, -5, 4]])\n",
    "if d_ndarray.shape[0] == e_ndarray.shape[1]:\n",
    "    print(product_of_matrix(d_ndarray, e_ndarray))\n",
    "else:\n",
    "    print(\"matrices are not aligned\")\n"
   ]
  },
  {
   "cell_type": "markdown",
   "metadata": {},
   "source": [
    "## [Problem 6] Transposition"
   ]
  },
  {
   "cell_type": "code",
   "execution_count": 75,
   "metadata": {},
   "outputs": [
    {
     "name": "stdout",
     "output_type": "stream",
     "text": [
      "[[ 33. -28.   9.]\n",
      " [-48.  41.  -6.]\n",
      " [  9.  -6.  45.]]\n"
     ]
    }
   ],
   "source": [
    "z = d_ndarray.T\n",
    "print(product_of_matrix(z, e_ndarray))"
   ]
  },
  {
   "cell_type": "code",
   "execution_count": null,
   "metadata": {},
   "outputs": [],
   "source": []
  }
 ],
 "metadata": {
  "kernelspec": {
   "display_name": "Python 3",
   "language": "python",
   "name": "python3"
  },
  "language_info": {
   "codemirror_mode": {
    "name": "ipython",
    "version": 3
   },
   "file_extension": ".py",
   "mimetype": "text/x-python",
   "name": "python",
   "nbconvert_exporter": "python",
   "pygments_lexer": "ipython3",
   "version": "3.8.5"
  }
 },
 "nbformat": 4,
 "nbformat_minor": 4
}
