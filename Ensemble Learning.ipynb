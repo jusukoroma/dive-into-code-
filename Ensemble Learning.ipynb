{
 "cells": [
  {
   "cell_type": "markdown",
   "metadata": {},
   "source": [
    "## [Problem 1]"
   ]
  },
  {
   "cell_type": "code",
   "execution_count": 1,
   "metadata": {},
   "outputs": [
    {
     "data": {
      "text/html": [
       "<div>\n",
       "<style scoped>\n",
       "    .dataframe tbody tr th:only-of-type {\n",
       "        vertical-align: middle;\n",
       "    }\n",
       "\n",
       "    .dataframe tbody tr th {\n",
       "        vertical-align: top;\n",
       "    }\n",
       "\n",
       "    .dataframe thead th {\n",
       "        text-align: right;\n",
       "    }\n",
       "</style>\n",
       "<table border=\"1\" class=\"dataframe\">\n",
       "  <thead>\n",
       "    <tr style=\"text-align: right;\">\n",
       "      <th></th>\n",
       "      <th>Id</th>\n",
       "      <th>MSSubClass</th>\n",
       "      <th>MSZoning</th>\n",
       "      <th>LotFrontage</th>\n",
       "      <th>LotArea</th>\n",
       "      <th>Street</th>\n",
       "      <th>Alley</th>\n",
       "      <th>LotShape</th>\n",
       "      <th>LandContour</th>\n",
       "      <th>Utilities</th>\n",
       "      <th>...</th>\n",
       "      <th>PoolArea</th>\n",
       "      <th>PoolQC</th>\n",
       "      <th>Fence</th>\n",
       "      <th>MiscFeature</th>\n",
       "      <th>MiscVal</th>\n",
       "      <th>MoSold</th>\n",
       "      <th>YrSold</th>\n",
       "      <th>SaleType</th>\n",
       "      <th>SaleCondition</th>\n",
       "      <th>SalePrice</th>\n",
       "    </tr>\n",
       "  </thead>\n",
       "  <tbody>\n",
       "    <tr>\n",
       "      <th>0</th>\n",
       "      <td>1</td>\n",
       "      <td>60</td>\n",
       "      <td>RL</td>\n",
       "      <td>65.0</td>\n",
       "      <td>8450</td>\n",
       "      <td>Pave</td>\n",
       "      <td>NaN</td>\n",
       "      <td>Reg</td>\n",
       "      <td>Lvl</td>\n",
       "      <td>AllPub</td>\n",
       "      <td>...</td>\n",
       "      <td>0</td>\n",
       "      <td>NaN</td>\n",
       "      <td>NaN</td>\n",
       "      <td>NaN</td>\n",
       "      <td>0</td>\n",
       "      <td>2</td>\n",
       "      <td>2008</td>\n",
       "      <td>WD</td>\n",
       "      <td>Normal</td>\n",
       "      <td>208500</td>\n",
       "    </tr>\n",
       "    <tr>\n",
       "      <th>1</th>\n",
       "      <td>2</td>\n",
       "      <td>20</td>\n",
       "      <td>RL</td>\n",
       "      <td>80.0</td>\n",
       "      <td>9600</td>\n",
       "      <td>Pave</td>\n",
       "      <td>NaN</td>\n",
       "      <td>Reg</td>\n",
       "      <td>Lvl</td>\n",
       "      <td>AllPub</td>\n",
       "      <td>...</td>\n",
       "      <td>0</td>\n",
       "      <td>NaN</td>\n",
       "      <td>NaN</td>\n",
       "      <td>NaN</td>\n",
       "      <td>0</td>\n",
       "      <td>5</td>\n",
       "      <td>2007</td>\n",
       "      <td>WD</td>\n",
       "      <td>Normal</td>\n",
       "      <td>181500</td>\n",
       "    </tr>\n",
       "    <tr>\n",
       "      <th>2</th>\n",
       "      <td>3</td>\n",
       "      <td>60</td>\n",
       "      <td>RL</td>\n",
       "      <td>68.0</td>\n",
       "      <td>11250</td>\n",
       "      <td>Pave</td>\n",
       "      <td>NaN</td>\n",
       "      <td>IR1</td>\n",
       "      <td>Lvl</td>\n",
       "      <td>AllPub</td>\n",
       "      <td>...</td>\n",
       "      <td>0</td>\n",
       "      <td>NaN</td>\n",
       "      <td>NaN</td>\n",
       "      <td>NaN</td>\n",
       "      <td>0</td>\n",
       "      <td>9</td>\n",
       "      <td>2008</td>\n",
       "      <td>WD</td>\n",
       "      <td>Normal</td>\n",
       "      <td>223500</td>\n",
       "    </tr>\n",
       "    <tr>\n",
       "      <th>3</th>\n",
       "      <td>4</td>\n",
       "      <td>70</td>\n",
       "      <td>RL</td>\n",
       "      <td>60.0</td>\n",
       "      <td>9550</td>\n",
       "      <td>Pave</td>\n",
       "      <td>NaN</td>\n",
       "      <td>IR1</td>\n",
       "      <td>Lvl</td>\n",
       "      <td>AllPub</td>\n",
       "      <td>...</td>\n",
       "      <td>0</td>\n",
       "      <td>NaN</td>\n",
       "      <td>NaN</td>\n",
       "      <td>NaN</td>\n",
       "      <td>0</td>\n",
       "      <td>2</td>\n",
       "      <td>2006</td>\n",
       "      <td>WD</td>\n",
       "      <td>Abnorml</td>\n",
       "      <td>140000</td>\n",
       "    </tr>\n",
       "    <tr>\n",
       "      <th>4</th>\n",
       "      <td>5</td>\n",
       "      <td>60</td>\n",
       "      <td>RL</td>\n",
       "      <td>84.0</td>\n",
       "      <td>14260</td>\n",
       "      <td>Pave</td>\n",
       "      <td>NaN</td>\n",
       "      <td>IR1</td>\n",
       "      <td>Lvl</td>\n",
       "      <td>AllPub</td>\n",
       "      <td>...</td>\n",
       "      <td>0</td>\n",
       "      <td>NaN</td>\n",
       "      <td>NaN</td>\n",
       "      <td>NaN</td>\n",
       "      <td>0</td>\n",
       "      <td>12</td>\n",
       "      <td>2008</td>\n",
       "      <td>WD</td>\n",
       "      <td>Normal</td>\n",
       "      <td>250000</td>\n",
       "    </tr>\n",
       "  </tbody>\n",
       "</table>\n",
       "<p>5 rows × 81 columns</p>\n",
       "</div>"
      ],
      "text/plain": [
       "   Id  MSSubClass MSZoning  LotFrontage  LotArea Street Alley LotShape  \\\n",
       "0   1          60       RL         65.0     8450   Pave   NaN      Reg   \n",
       "1   2          20       RL         80.0     9600   Pave   NaN      Reg   \n",
       "2   3          60       RL         68.0    11250   Pave   NaN      IR1   \n",
       "3   4          70       RL         60.0     9550   Pave   NaN      IR1   \n",
       "4   5          60       RL         84.0    14260   Pave   NaN      IR1   \n",
       "\n",
       "  LandContour Utilities  ... PoolArea PoolQC Fence MiscFeature MiscVal MoSold  \\\n",
       "0         Lvl    AllPub  ...        0    NaN   NaN         NaN       0      2   \n",
       "1         Lvl    AllPub  ...        0    NaN   NaN         NaN       0      5   \n",
       "2         Lvl    AllPub  ...        0    NaN   NaN         NaN       0      9   \n",
       "3         Lvl    AllPub  ...        0    NaN   NaN         NaN       0      2   \n",
       "4         Lvl    AllPub  ...        0    NaN   NaN         NaN       0     12   \n",
       "\n",
       "  YrSold  SaleType  SaleCondition  SalePrice  \n",
       "0   2008        WD         Normal     208500  \n",
       "1   2007        WD         Normal     181500  \n",
       "2   2008        WD         Normal     223500  \n",
       "3   2006        WD        Abnorml     140000  \n",
       "4   2008        WD         Normal     250000  \n",
       "\n",
       "[5 rows x 81 columns]"
      ]
     },
     "execution_count": 1,
     "metadata": {},
     "output_type": "execute_result"
    }
   ],
   "source": [
    "import numpy as np\n",
    "import pandas as pd\n",
    "\n",
    "data = pd.read_csv(\"train.csv\")\n",
    "data.head()"
   ]
  },
  {
   "cell_type": "code",
   "execution_count": 2,
   "metadata": {},
   "outputs": [
    {
     "data": {
      "text/html": [
       "<div>\n",
       "<style scoped>\n",
       "    .dataframe tbody tr th:only-of-type {\n",
       "        vertical-align: middle;\n",
       "    }\n",
       "\n",
       "    .dataframe tbody tr th {\n",
       "        vertical-align: top;\n",
       "    }\n",
       "\n",
       "    .dataframe thead th {\n",
       "        text-align: right;\n",
       "    }\n",
       "</style>\n",
       "<table border=\"1\" class=\"dataframe\">\n",
       "  <thead>\n",
       "    <tr style=\"text-align: right;\">\n",
       "      <th></th>\n",
       "      <th>GrLivArea</th>\n",
       "      <th>YearBuilt</th>\n",
       "    </tr>\n",
       "  </thead>\n",
       "  <tbody>\n",
       "    <tr>\n",
       "      <th>0</th>\n",
       "      <td>1710</td>\n",
       "      <td>2003</td>\n",
       "    </tr>\n",
       "    <tr>\n",
       "      <th>1</th>\n",
       "      <td>1262</td>\n",
       "      <td>1976</td>\n",
       "    </tr>\n",
       "    <tr>\n",
       "      <th>2</th>\n",
       "      <td>1786</td>\n",
       "      <td>2001</td>\n",
       "    </tr>\n",
       "    <tr>\n",
       "      <th>3</th>\n",
       "      <td>1717</td>\n",
       "      <td>1915</td>\n",
       "    </tr>\n",
       "    <tr>\n",
       "      <th>4</th>\n",
       "      <td>2198</td>\n",
       "      <td>2000</td>\n",
       "    </tr>\n",
       "  </tbody>\n",
       "</table>\n",
       "</div>"
      ],
      "text/plain": [
       "   GrLivArea  YearBuilt\n",
       "0       1710       2003\n",
       "1       1262       1976\n",
       "2       1786       2001\n",
       "3       1717       1915\n",
       "4       2198       2000"
      ]
     },
     "execution_count": 2,
     "metadata": {},
     "output_type": "execute_result"
    }
   ],
   "source": [
    "X = data[[\"GrLivArea\", \"YearBuilt\"]]\n",
    "X.head()"
   ]
  },
  {
   "cell_type": "code",
   "execution_count": 3,
   "metadata": {},
   "outputs": [
    {
     "data": {
      "text/plain": [
       "0    208500\n",
       "1    181500\n",
       "2    223500\n",
       "3    140000\n",
       "4    250000\n",
       "Name: SalePrice, dtype: int64"
      ]
     },
     "execution_count": 3,
     "metadata": {},
     "output_type": "execute_result"
    }
   ],
   "source": [
    "y = data[\"SalePrice\"]\n",
    "y.head()"
   ]
  },
  {
   "cell_type": "code",
   "execution_count": 4,
   "metadata": {},
   "outputs": [
    {
     "data": {
      "text/html": [
       "<div>\n",
       "<style scoped>\n",
       "    .dataframe tbody tr th:only-of-type {\n",
       "        vertical-align: middle;\n",
       "    }\n",
       "\n",
       "    .dataframe tbody tr th {\n",
       "        vertical-align: top;\n",
       "    }\n",
       "\n",
       "    .dataframe thead th {\n",
       "        text-align: right;\n",
       "    }\n",
       "</style>\n",
       "<table border=\"1\" class=\"dataframe\">\n",
       "  <thead>\n",
       "    <tr style=\"text-align: right;\">\n",
       "      <th></th>\n",
       "      <th>GrLivArea</th>\n",
       "      <th>YearBuilt</th>\n",
       "    </tr>\n",
       "  </thead>\n",
       "  <tbody>\n",
       "    <tr>\n",
       "      <th>64</th>\n",
       "      <td>2034</td>\n",
       "      <td>1997</td>\n",
       "    </tr>\n",
       "    <tr>\n",
       "      <th>682</th>\n",
       "      <td>1291</td>\n",
       "      <td>1996</td>\n",
       "    </tr>\n",
       "    <tr>\n",
       "      <th>960</th>\n",
       "      <td>858</td>\n",
       "      <td>1958</td>\n",
       "    </tr>\n",
       "    <tr>\n",
       "      <th>1384</th>\n",
       "      <td>1258</td>\n",
       "      <td>1939</td>\n",
       "    </tr>\n",
       "    <tr>\n",
       "      <th>1100</th>\n",
       "      <td>438</td>\n",
       "      <td>1920</td>\n",
       "    </tr>\n",
       "  </tbody>\n",
       "</table>\n",
       "</div>"
      ],
      "text/plain": [
       "      GrLivArea  YearBuilt\n",
       "64         2034       1997\n",
       "682        1291       1996\n",
       "960         858       1958\n",
       "1384       1258       1939\n",
       "1100        438       1920"
      ]
     },
     "execution_count": 4,
     "metadata": {},
     "output_type": "execute_result"
    }
   ],
   "source": [
    "from sklearn.model_selection import train_test_split\n",
    "(X_train, X_test, y_train, y_test) = train_test_split(X, y, test_size=0.3, random_state=0, shuffle=True)\n",
    "X_train.head()"
   ]
  },
  {
   "cell_type": "code",
   "execution_count": 5,
   "metadata": {},
   "outputs": [],
   "source": [
    "from sklearn.model_selection import cross_val_predict\n",
    "from sklearn.metrics import mean_squared_error\n",
    "from sklearn.preprocessing import StandardScaler\n",
    "from sklearn.ensemble import RandomForestRegressor\n",
    "from sklearn import linear_model\n",
    "from sklearn.svm import SVR\n",
    "from sklearn.tree import DecisionTreeRegressor\n",
    "from sklearn.linear_model import LinearRegression"
   ]
  },
  {
   "cell_type": "code",
   "execution_count": 6,
   "metadata": {},
   "outputs": [
    {
     "name": "stdout",
     "output_type": "stream",
     "text": [
      "MSE(Linear Model):  2690647926.377603\n",
      "MSE(SVR):  7119069689.683064\n",
      "MSE(Decision Tree Regressor):  2553443455.30812\n"
     ]
    }
   ],
   "source": [
    "lr= linear_model.LinearRegression(normalize=True)\n",
    "lr.fit(X_train, y_train)\n",
    "lr_pred = lr.predict(X_test)\n",
    "print(\"MSE(Linear Model): \",mean_squared_error(y_test, lr_pred))\n",
    "\n",
    "scaler = StandardScaler()\n",
    "X_test_std = scaler.fit_transform(X_test)\n",
    "X_train_std = scaler.fit_transform(X_train)\n",
    "svr= SVR(kernel='rbf')\n",
    "svr.fit(X_train_std, y_train)\n",
    "svr_pred = svr.predict(X_test_std)\n",
    "print(\"MSE(SVR): \",mean_squared_error(y_test, svr_pred))\n",
    "\n",
    "dTree = DecisionTreeRegressor(max_depth=3)\n",
    "dTree.fit(X_train, y_train)\n",
    "dt_pred = dTree.predict(X_test)\n",
    "print(\"MSE(Decision Tree Regressor): \",mean_squared_error(y_test, dt_pred))"
   ]
  },
  {
   "cell_type": "code",
   "execution_count": 7,
   "metadata": {},
   "outputs": [
    {
     "name": "stdout",
     "output_type": "stream",
     "text": [
      "(3, 438)\n",
      "MSE(mean):  2463697221.7955875\n"
     ]
    }
   ],
   "source": [
    "mix_pred = np.vstack((lr_pred, svr_pred, dt_pred))\n",
    "print(mix_pred.shape)\n",
    "\n",
    "mean_pred = lr_pred*0.4 + svr_pred*0.1 + dt_pred*0.5\n",
    "print(\"MSE(mean): \",mean_squared_error(y_test, mean_pred))"
   ]
  },
  {
   "cell_type": "code",
   "execution_count": 8,
   "metadata": {},
   "outputs": [
    {
     "name": "stdout",
     "output_type": "stream",
     "text": [
      "MSE(Lasso):  2690647942.4335794\n",
      "MSE(SVR):  7128920068.0851145\n",
      "MSE(Decision Tree Regressor):  2553443455.30812\n"
     ]
    }
   ],
   "source": [
    "from sklearn.linear_model import Lasso\n",
    "lass= Lasso(alpha=0.1)\n",
    "lass.fit(X_train, y_train)\n",
    "lass_pred = lass.predict(X_test)\n",
    "print(\"MSE(Lasso): \",mean_squared_error(y_test, lass_pred))\n",
    "\n",
    "scaler = StandardScaler()\n",
    "X_test_std = scaler.fit_transform(X_test)\n",
    "X_train_std = scaler.fit_transform(X_train)\n",
    "svr= SVR(kernel='rbf',C=0.5)\n",
    "svr.fit(X_train_std, y_train)\n",
    "svr_pred = svr.predict(X_test_std)\n",
    "print(\"MSE(SVR): \",mean_squared_error(y_test, svr_pred))\n",
    "\n",
    "dTree = DecisionTreeRegressor(max_depth=3)\n",
    "dTree.fit(X_train, y_train)\n",
    "dt_pred = dTree.predict(X_test)\n",
    "print(\"MSE(Decision Tree Regressor): \",mean_squared_error(y_test, dt_pred))"
   ]
  },
  {
   "cell_type": "code",
   "execution_count": 9,
   "metadata": {},
   "outputs": [
    {
     "name": "stdout",
     "output_type": "stream",
     "text": [
      "(3, 438)\n",
      "MSE(mean):  2407972049.721094\n"
     ]
    }
   ],
   "source": [
    "mix_pred = np.vstack((lass_pred, svr_pred, dt_pred))\n",
    "print(mix_pred.shape)\n",
    "\n",
    "mean_pred = lass_pred*0.45 + svr_pred*0.05 + dt_pred*0.5\n",
    "print(\"MSE(mean): \",mean_squared_error(y_test, mean_pred))"
   ]
  },
  {
   "cell_type": "code",
   "execution_count": 10,
   "metadata": {},
   "outputs": [
    {
     "name": "stdout",
     "output_type": "stream",
     "text": [
      "MSE(Ridge):  2690647942.087793\n",
      "MSE(SVR):  3389628361.3601527\n",
      "MSE(Decision Tree Regressor):  1944184582.685823\n"
     ]
    }
   ],
   "source": [
    "from sklearn.linear_model import Ridge\n",
    "rid= Ridge(alpha=0.1)\n",
    "rid.fit(X_train, y_train)\n",
    "rid_pred = rid.predict(X_test)\n",
    "print(\"MSE(Ridge): \",mean_squared_error(y_test, rid_pred))\n",
    "\n",
    "scaler = StandardScaler()\n",
    "X_test_std = scaler.fit_transform(X_test)\n",
    "X_train_std = scaler.fit_transform(X_train)\n",
    "svr= SVR(kernel='linear', C=100)\n",
    "svr.fit(X_train_std, y_train)\n",
    "svr_pred = svr.predict(X_test_std)\n",
    "print(\"MSE(SVR): \",mean_squared_error(y_test, svr_pred))\n",
    "\n",
    "Dtree = DecisionTreeRegressor(max_depth=9)\n",
    "Dtree.fit(X_train, y_train)\n",
    "Dtree_pred = Dtree.predict(X_test)\n",
    "print(\"MSE(Decision Tree Regressor): \",mean_squared_error(y_test, Dtree_pred))\n"
   ]
  },
  {
   "cell_type": "code",
   "execution_count": 11,
   "metadata": {},
   "outputs": [
    {
     "name": "stdout",
     "output_type": "stream",
     "text": [
      "(3, 438)\n",
      "MSE(mean):  1845137638.210475\n"
     ]
    }
   ],
   "source": [
    "mix_pred = np.vstack((rid_pred, svr_pred, Dtree_pred))\n",
    "print(mix_pred.shape)\n",
    "\n",
    "mean_pred = rid_pred*0.25 + svr_pred*0.05 + Dtree_pred*0.7\n",
    "print(\"MSE(mean): \",mean_squared_error(y_test, mean_pred))"
   ]
  },
  {
   "cell_type": "markdown",
   "metadata": {},
   "source": [
    "## [Problem 2] Scratch mounting of bagging"
   ]
  },
  {
   "cell_type": "code",
   "execution_count": 12,
   "metadata": {},
   "outputs": [],
   "source": [
    "class Bagging():\n",
    "     \n",
    "    def fit(self, models, X, y):\n",
    "        self.model_list = []\n",
    "        for j, model in enumerate(models):\n",
    "            np.random.seed(j)\n",
    "            self.rand_index = np.random.choice(X.index,X.shape[0], replace=True)\n",
    "            self.X_rand = X.loc[self.rand_index]\n",
    "            self.y_rand = y.loc[self.rand_index]\n",
    "            self.model_list.append(model.fit(self.X_rand, self.y_rand))\n",
    "            \n",
    "    def predict(self, X, y):\n",
    "        print(X.shape[0])\n",
    "        print(len(self.model_list))\n",
    "        self.pred_data = np.zeros((X.shape[0],len(self.model_list)))\n",
    "        for i, model in enumerate(self.model_list):\n",
    "            self.pred = model.predict(X)\n",
    "            self.pred_data[:,i] = self.pred\n",
    "        self.final_pred = np.mean(self.pred_data, axis=1)\n",
    "        print(\"MSE(mean): \",mean_squared_error(y, self.final_pred))\n",
    "        return self.final_pred"
   ]
  },
  {
   "cell_type": "code",
   "execution_count": 13,
   "metadata": {},
   "outputs": [],
   "source": [
    "from sklearn.ensemble import GradientBoostingRegressor\n",
    "import lightgbm as lgb\n",
    "#import xgboost as xgb\n",
    "\n",
    "np.random.seed(1)\n",
    "rand_index = np.random.choice(X_train.index,1022, replace=True)\n",
    "np.random.seed(1)\n",
    "rand_index = np.random.choice(X_train.index,X_train.shape[0], replace=True)\n",
    "X_train1 = X_train.loc[rand_index]\n",
    "y_train1 = y_train.loc[rand_index]\n",
    "\n",
    "np.random.seed(2)\n",
    "rand_index = np.random.choice(X_train.index,X_train.shape[0], replace=True)\n",
    "X_train2 = X_train.loc[rand_index]\n",
    "y_train2 = y_train.loc[rand_index]\n",
    "\n",
    "np.random.seed(3)\n",
    "rand_index = np.random.choice(X_train.index,X_train.shape[0], replace=True).tolist()\n",
    "X_train3 = X_train.loc[rand_index]\n",
    "y_train3 = y_train.loc[rand_index]"
   ]
  },
  {
   "cell_type": "code",
   "execution_count": 14,
   "metadata": {},
   "outputs": [
    {
     "data": {
      "text/plain": [
       "{'alpha': 1.0,\n",
       " 'copy_X': True,\n",
       " 'fit_intercept': True,\n",
       " 'max_iter': None,\n",
       " 'normalize': False,\n",
       " 'random_state': None,\n",
       " 'solver': 'auto',\n",
       " 'tol': 0.001}"
      ]
     },
     "execution_count": 14,
     "metadata": {},
     "output_type": "execute_result"
    }
   ],
   "source": [
    "Ridge().get_params()"
   ]
  },
  {
   "cell_type": "code",
   "execution_count": 15,
   "metadata": {},
   "outputs": [
    {
     "name": "stdout",
     "output_type": "stream",
     "text": [
      "MSE:  2664699338.9402046\n",
      "MSE:  2208194456.6989045\n",
      "MSE:  2193007582.7991037\n",
      "MSE(mean):  1808190527.5706503\n"
     ]
    }
   ],
   "source": [
    "Dtree1 = DecisionTreeRegressor(max_depth=3).fit(X_train1, y_train1)\n",
    "y_pred1 = Dtree1.predict(X_test)\n",
    "print(\"MSE: \",mean_squared_error(y_test, y_pred1))\n",
    "\n",
    "Dtree2 = DecisionTreeRegressor(max_depth=5).fit(X_train2, y_train2)\n",
    "y_pred2 =Dtree2.predict(X_test)\n",
    "print(\"MSE: \",mean_squared_error(y_test, y_pred2))\n",
    "\n",
    "Dtree3 = DecisionTreeRegressor(max_depth=9).fit(X_train3, y_train3)\n",
    "y_pred3 =Dtree3.predict(X_test)\n",
    "print(\"MSE: \",mean_squared_error(y_test, y_pred3))\n",
    "\n",
    "y_pred_mean = (y_pred1 + y_pred2 + y_pred3)/3\n",
    "print(\"MSE(mean): \",mean_squared_error(y_test, y_pred_mean))"
   ]
  },
  {
   "cell_type": "code",
   "execution_count": 16,
   "metadata": {},
   "outputs": [
    {
     "name": "stdout",
     "output_type": "stream",
     "text": [
      "MSE:  2686029105.2011013\n",
      "MSE:  2668867039.986893\n",
      "MSE:  2716211753.2647443\n",
      "MSE(mean):  2681223886.54196\n"
     ]
    }
   ],
   "source": [
    "rid1= Ridge(alpha=0.1).fit(X_train1, y_train1)\n",
    "y_pred1 =rid1.predict(X_test)\n",
    "print(\"MSE: \",mean_squared_error(y_test, y_pred1))\n",
    "\n",
    "rid2= Ridge(alpha=1.0, tol=0.001).fit(X_train2, y_train2)\n",
    "y_pred2 =rid2.predict(X_test)\n",
    "print(\"MSE: \",mean_squared_error(y_test, y_pred2))\n",
    "\n",
    "rid3= Ridge(alpha=1.0, tol=0.005).fit(X_train3, y_train3)\n",
    "y_pred3 =rid3.predict(X_test)\n",
    "print(\"MSE: \",mean_squared_error(y_test, y_pred3))\n",
    "\n",
    "y_pred_mean = (y_pred1 + y_pred2 + y_pred3)/3\n",
    "print(\"MSE(mean): \",mean_squared_error(y_test, y_pred_mean))"
   ]
  },
  {
   "cell_type": "code",
   "execution_count": 17,
   "metadata": {},
   "outputs": [
    {
     "name": "stdout",
     "output_type": "stream",
     "text": [
      "MSE:  1996989149.286145\n",
      "MSE:  2217785612.142733\n",
      "MSE:  2337926346.668943\n",
      "MSE(mean):  2010251814.6958816\n"
     ]
    },
    {
     "data": {
      "text/plain": [
       "149261.18481853406"
      ]
     },
     "execution_count": 17,
     "metadata": {},
     "output_type": "execute_result"
    }
   ],
   "source": [
    "lgb1 = lgb.LGBMRegressor(n_estimators=100,max_depth=5).fit(X_train1, y_train1)\n",
    "y_pred1 =lgb1.predict(X_test)\n",
    "print(\"MSE: \",mean_squared_error(y_test, y_pred1))\n",
    "\n",
    "lgb2 = lgb.LGBMRegressor(n_estimators=500,max_depth=3).fit(X_train2, y_train2)\n",
    "y_pred2 =lgb2.predict(X_test)\n",
    "print(\"MSE: \",mean_squared_error(y_test, y_pred2))\n",
    "\n",
    "lgb3 = lgb.LGBMRegressor(n_estimators=250,max_depth=5).fit(X_train3, y_train3)\n",
    "y_pred3 =lgb3.predict(X_test)\n",
    "print(\"MSE: \",mean_squared_error(y_test, y_pred3))\n",
    "\n",
    "y_pred_mean = (y_pred1 + y_pred2 + y_pred3)/3\n",
    "print(\"MSE(mean): \",mean_squared_error(y_test, y_pred_mean))\n",
    "y_pred3[1]"
   ]
  },
  {
   "cell_type": "code",
   "execution_count": 18,
   "metadata": {},
   "outputs": [
    {
     "name": "stdout",
     "output_type": "stream",
     "text": [
      "438\n",
      "3\n",
      "MSE(mean):  2082229343.4478562\n"
     ]
    },
    {
     "data": {
      "text/plain": [
       "array([195193.94905274, 157110.48739213, 124787.49062646, 187879.01518027,\n",
       "       131999.57030482, 106066.27635264, 198676.36175465, 120975.92384017,\n",
       "       517266.01388889, 151956.47769667])"
      ]
     },
     "execution_count": 18,
     "metadata": {},
     "output_type": "execute_result"
    }
   ],
   "source": [
    "models = [DecisionTreeRegressor(max_depth=3), DecisionTreeRegressor(max_depth=5), DecisionTreeRegressor(max_depth=9)]\n",
    "bg = Bagging()\n",
    "bg.fit(models=models, X = X_train, y = y_train)\n",
    "bg.predict(X_test, y_test)[:10]"
   ]
  },
  {
   "cell_type": "code",
   "execution_count": 19,
   "metadata": {},
   "outputs": [
    {
     "name": "stdout",
     "output_type": "stream",
     "text": [
      "438\n",
      "3\n",
      "MSE(mean):  2689812086.856316\n"
     ]
    },
    {
     "data": {
      "text/plain": [
       "array([264112.64410977, 155652.55610252, 127886.33564298, 235903.28577607,\n",
       "       138286.3105352 ,  69456.63737513, 211451.27681943, 131612.95223843,\n",
       "       496702.73759219, 172779.36738094])"
      ]
     },
     "execution_count": 19,
     "metadata": {},
     "output_type": "execute_result"
    }
   ],
   "source": [
    "models = [Ridge(alpha=0.1), Ridge(alpha=1.0, tol=0.001), Ridge(alpha=1.0, tol=0.005)]\n",
    "bg = Bagging()\n",
    "bg.fit(models=models, X = X_train, y = y_train)\n",
    "bg.predict(X_test, y_test)[:10]"
   ]
  },
  {
   "cell_type": "code",
   "execution_count": 20,
   "metadata": {},
   "outputs": [
    {
     "name": "stdout",
     "output_type": "stream",
     "text": [
      "438\n",
      "3\n",
      "MSE(mean):  2036815718.3806436\n"
     ]
    },
    {
     "data": {
      "text/plain": [
       "array([210476.95894213, 156890.54157627, 125680.79404234, 197150.55713645,\n",
       "       138542.24963586,  85672.01381959, 213653.13741677, 123972.69742348,\n",
       "       481443.71176392, 158152.00156221])"
      ]
     },
     "execution_count": 20,
     "metadata": {},
     "output_type": "execute_result"
    }
   ],
   "source": [
    "models = [Ridge(alpha=0.1), lgb.LGBMRegressor(n_estimators=100,max_depth=5), DecisionTreeRegressor(max_depth=9)]\n",
    "bg = Bagging()\n",
    "bg.fit(models=models, X = X_train, y = y_train)\n",
    "bg.predict(X_test, y_test)[:10]"
   ]
  },
  {
   "cell_type": "markdown",
   "metadata": {},
   "source": [
    "## [Problem 3] Stacking scratch mounting"
   ]
  },
  {
   "cell_type": "code",
   "execution_count": 21,
   "metadata": {},
   "outputs": [
    {
     "name": "stdout",
     "output_type": "stream",
     "text": [
      "MSE_1:  2082093768.2136488\n",
      "MSE_2:  2322147447.445104\n",
      "MSE_2:  1456070865.648331\n"
     ]
    }
   ],
   "source": [
    "X1_train, X2_train, X3_train  = np.split(X_train, [340, 681])\n",
    "y1_train, y2_train, y3_train  = np.split(y_train, [340, 681])\n",
    "X_train1 = np.vstack((X2_train, X3_train))\n",
    "y_train1 = np.hstack((y2_train, y3_train))\n",
    "\n",
    "reg1_Gr = GradientBoostingRegressor(n_estimators=100,max_depth=5).fit(X_train1, y_train1)\n",
    "y_pred1_reg1_Gr =reg1_Gr.predict(X1_train)\n",
    "print(\"MSE_1: \",mean_squared_error(y1_train, y_pred1_reg1_Gr))\n",
    "\n",
    "X_train2 = np.vstack((X1_train, X3_train))\n",
    "y_train2 = np.hstack((y1_train, y3_train))\n",
    "reg2_Gr = GradientBoostingRegressor(n_estimators=500,max_depth=3).fit(X_train2, y_train2)\n",
    "y_pred2_reg2_Gr =reg2_Gr.predict(X2_train)\n",
    "print(\"MSE_2: \",mean_squared_error(y2_train, y_pred2_reg2_Gr))\n",
    "\n",
    "X_train3 = np.vstack((X1_train, X2_train))\n",
    "y_train3 = np.hstack((y1_train, y2_train))\n",
    "reg3_Gr = GradientBoostingRegressor(n_estimators=250,max_depth=5).fit(X_train3, y_train3)\n",
    "y_pred3_reg3_Gr =reg3_Gr.predict(X3_train)\n",
    "print(\"MSE_2: \",mean_squared_error(y3_train, y_pred3_reg3_Gr))\n",
    "y_train_Gr = np.hstack((y_pred1_reg1_Gr, y_pred2_reg2_Gr, y_pred2_reg2_Gr))"
   ]
  },
  {
   "cell_type": "code",
   "execution_count": 22,
   "metadata": {},
   "outputs": [
    {
     "name": "stdout",
     "output_type": "stream",
     "text": [
      "MSE_1:  1789291655.0779407\n",
      "MSE_2:  2088962682.1700788\n",
      "MSE_3:  1383718320.4924493\n"
     ]
    }
   ],
   "source": [
    "X_train1 = np.vstack((X2_train, X3_train))\n",
    "y_train1 = np.hstack((y2_train, y3_train))\n",
    "reg1_LG = lgb.LGBMRegressor(n_estimators=100,max_depth=5).fit(X_train1, y_train1)\n",
    "y_pred1_reg1_LG =reg1_LG.predict(X1_train)\n",
    "print(\"MSE_1: \",mean_squared_error(y1_train, y_pred1_reg1_LG))\n",
    "\n",
    "X_train2 = np.vstack((X1_train, X3_train))\n",
    "y_train2 = np.hstack((y1_train, y3_train))\n",
    "reg2_LG = lgb.LGBMRegressor(n_estimators=500,max_depth=3).fit(X_train2, y_train2)\n",
    "y_pred2_reg2_LG =reg2_LG.predict(X2_train)\n",
    "print(\"MSE_2: \",mean_squared_error(y2_train, y_pred2_reg2_LG))\n",
    "\n",
    "X_train3 = np.vstack((X1_train, X2_train))\n",
    "y_train3 = np.hstack((y1_train, y2_train))\n",
    "reg3_LG = lgb.LGBMRegressor(n_estimators=250,max_depth=5).fit(X_train3, y_train3)\n",
    "y_pred3_reg3_LG =reg3_LG.predict(X3_train)\n",
    "print(\"MSE_3: \",mean_squared_error(y3_train, y_pred3_reg3_LG))\n",
    "y_train_LG = np.hstack((y_pred1_reg1_LG, y_pred2_reg2_LG, y_pred2_reg2_LG))"
   ]
  },
  {
   "cell_type": "code",
   "execution_count": 23,
   "metadata": {},
   "outputs": [
    {
     "name": "stdout",
     "output_type": "stream",
     "text": [
      "MSE_1:  1970509968.506887\n",
      "MSE_2:  2421858114.9768577\n",
      "MSE_3) 1182802514.6276407\n"
     ]
    }
   ],
   "source": [
    "X_train1 = np.vstack((X2_train, X3_train))\n",
    "y_train1 = np.hstack((y2_train, y3_train))\n",
    "reg1_RF = RandomForestRegressor(n_estimators=100,max_depth=5).fit(X_train1, y_train1)\n",
    "y_pred1_reg1_RF =reg1_RF.predict(X1_train)\n",
    "print(\"MSE_1: \",mean_squared_error(y1_train, y_pred1_reg1_RF))\n",
    "\n",
    "X_train2 = np.vstack((X1_train, X3_train))\n",
    "y_train2 = np.hstack((y1_train, y3_train))\n",
    "reg2_RF = RandomForestRegressor(n_estimators=500,max_depth=3).fit(X_train2, y_train2)\n",
    "y_pred2_reg2_RF =reg2_RF.predict(X2_train)\n",
    "print(\"MSE_2: \",mean_squared_error(y2_train, y_pred2_reg2_RF))\n",
    "\n",
    "X_train3 = np.vstack((X1_train, X2_train))\n",
    "y_train3 = np.hstack((y1_train, y2_train))\n",
    "reg3_RF = RandomForestRegressor(n_estimators=250,max_depth=5).fit(X_train3, y_train3)\n",
    "y_pred3_reg3_RF =reg3_RF.predict(X3_train)\n",
    "print(\"MSE_3)\",mean_squared_error(y3_train, y_pred3_reg3_RF))\n",
    "y_train_RF = np.hstack((y_pred1_reg1_RF, y_pred2_reg2_RF, y_pred2_reg2_RF))"
   ]
  },
  {
   "cell_type": "code",
   "execution_count": 24,
   "metadata": {},
   "outputs": [],
   "source": [
    "train_mix = np.vstack((y_train_Gr, y_train_LG, y_train_RF)).T\n",
    "\n",
    "DecisionTreeRegressor\n",
    "reg_end = DecisionTreeRegressor(max_depth=9).fit(train_mix, y_train)\n",
    "\n",
    "X_test1_Gr =reg1_Gr.predict(X_test)\n",
    "X_test2_Gr =reg2_Gr.predict(X_test)\n",
    "X_test3_Gr = reg3_Gr.predict(X_test)\n",
    "y_test_Gr = (X_test1_Gr + X_test2_Gr + X_test3_Gr) /3\n",
    "\n",
    "X_test1_LG =reg1_LG.predict(X_test)\n",
    "X_test2_LG =reg2_LG.predict(X_test)\n",
    "X_test3_LG = reg3_LG.predict(X_test)\n",
    "y_test_LG = (X_test1_LG + X_test2_LG + X_test3_LG) /3\n",
    "\n",
    "X_test1_RF =reg1_RF.predict(X_test)\n",
    "X_test2_RF =reg2_RF.predict(X_test)\n",
    "X_test3_RF = reg3_RF.predict(X_test)\n",
    "y_test_RF = (X_test1_RF + X_test2_RF + X_test3_RF) /3"
   ]
  },
  {
   "cell_type": "code",
   "execution_count": 25,
   "metadata": {},
   "outputs": [],
   "source": [
    "from sklearn.model_selection import KFold\n",
    "\n",
    "class Stacking():\n",
    "    \n",
    "    def __init__(self,models,end_model):\n",
    "        self.models = models\n",
    "        self.end_model = end_model\n",
    "\n",
    "    def fit(self,X,y,K,seed):\n",
    "        self.K = K\n",
    "        KF = KFold(n_splits=K, random_state=seed, shuffle=True)\n",
    "        self.pred_data = np.array([])\n",
    "        X = np.array(X)\n",
    "        y = np.array(y)\n",
    "        self.preds = np.array([])\n",
    "        self.model_list = []\n",
    "        for i, model in enumerate(self.models):\n",
    "            for train_index, test_index in KF.split(X):\n",
    "                self.model_list.append(model.fit(X[train_index],y[train_index]))\n",
    "                y_pred = model.predict(X[test_index])\n",
    "                self.preds = np.append(self.preds, y_pred)\n",
    "        self.preds = self.preds.reshape(len(self.models),X.shape[0]).T\n",
    "        self.end_model.fit(self.preds, y)\n",
    "       \n",
    "    def predict(self,X, y):\n",
    "        X = np.array(X)\n",
    "        y = np.array(y)\n",
    "        self.test_array = np.array([])\n",
    "        self.final_test = np.zeros((X.shape[0],self.K))\n",
    "        for model in self.model_list:\n",
    "            y_pred_test = model.predict(X)\n",
    "            self.test_array = np.append(self.test_array, y_pred_test)\n",
    "        self.test_array=self.test_array.reshape(len(self.models)*self.K, X.shape[0]).T\n",
    "        print(\"Test-->\", self.test_array.shape)\n",
    "        for j, i in enumerate(range(0,len(self.models)*self.K-self.K, self.K)):\n",
    "            self.mean_pred = np.mean(self.test_array[:,i:i+self.K], axis=1)\n",
    "            self.final_test[:,j] = self.mean_pred\n",
    "        self.final_pred = self.end_model.predict(self.final_test)\n",
    "        print(\"Last stage-->\", self.final_test.shape)\n",
    "        return self.final_pred"
   ]
  },
  {
   "cell_type": "code",
   "execution_count": 26,
   "metadata": {},
   "outputs": [
    {
     "name": "stdout",
     "output_type": "stream",
     "text": [
      "Test--> (438, 9)\n",
      "Last stage--> (438, 3)\n",
      "MSE(Stacking):  6762143118.194228\n"
     ]
    }
   ],
   "source": [
    "models = [SVR(kernel='linear', C=100), LinearRegression(), lgb.LGBMRegressor(n_estimators=100,max_depth=5)]\n",
    "St = Stacking(models,end_model=RandomForestRegressor(n_estimators=100,max_depth=5))\n",
    "St.fit(X=X_train, y=y_train,K=3,seed=0)\n",
    "y_pred_end = St.predict(X_test, y_test)\n",
    "print(\"MSE(Stacking): \",mean_squared_error(y_test, y_pred_end))"
   ]
  },
  {
   "cell_type": "code",
   "execution_count": null,
   "metadata": {},
   "outputs": [],
   "source": []
  }
 ],
 "metadata": {
  "kernelspec": {
   "display_name": "Python 3",
   "language": "python",
   "name": "python3"
  },
  "language_info": {
   "codemirror_mode": {
    "name": "ipython",
    "version": 3
   },
   "file_extension": ".py",
   "mimetype": "text/x-python",
   "name": "python",
   "nbconvert_exporter": "python",
   "pygments_lexer": "ipython3",
   "version": "3.8.5"
  }
 },
 "nbformat": 4,
 "nbformat_minor": 4
}
