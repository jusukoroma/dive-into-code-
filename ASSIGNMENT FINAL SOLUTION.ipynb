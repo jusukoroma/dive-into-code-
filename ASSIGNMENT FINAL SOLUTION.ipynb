{
 "cells": [
  {
   "cell_type": "code",
   "execution_count": 19,
   "metadata": {},
   "outputs": [
    {
     "name": "stdout",
     "output_type": "stream",
     "text": [
      "Thickness: 703687441.77664meters\n"
     ]
    }
   ],
   "source": [
    "\n",
    "###Code that calculate the thickness of a piece of paper\n",
    "\n",
    "THICKNESS = 0.00008\n",
    "n_folded=43\n",
    "folded_thickness = THICKNESS*(2**n_folded)\n",
    "print(\"Thickness: {}meters\".format(folded_thickness))"
   ]
  },
  {
   "cell_type": "code",
   "execution_count": 18,
   "metadata": {},
   "outputs": [
    {
     "name": "stdout",
     "output_type": "stream",
     "text": [
      "Thickness: 703687.440,000 km\n"
     ]
    }
   ],
   "source": [
    "\n",
    "###Code that convert meters to kilometers\n",
    "\n",
    "THICKNESS =0.00008\n",
    "n_folded=43\n",
    "folded_thickness = THICKNESS*(2**n_folded)\n",
    "print(\"Thickness: {:.2f}0,000 km\".format(folded_thickness/1000))"
   ]
  },
  {
   "cell_type": "code",
   "execution_count": 21,
   "metadata": {},
   "outputs": [
    {
     "name": "stdout",
     "output_type": "stream",
     "text": [
      "Thickness: 703687441.77664meters\n",
      "Thickness: 703687.440,000 km\n"
     ]
    }
   ],
   "source": [
    "### without the use of exponentiation arithmetic operators print in both format\n",
    "THICKNESS = 0.00008\n",
    "n_folded = 43\n",
    "folded_thickness = THICKNESS*(2*2*2*2*2*2*2*2*2*2*2*2*2*2*2*2*2*2*2*2*2*2*2*2*2*2*2*2*2*2*2*2*2*2*2*2*2*2*2*2*2*2*2)\n",
    "print(\"Thickness: {}meters\".format(folded_thickness))\n",
    "print(\"Thickness: {:.2f}0,000 km\".format(folded_thickness/1000))"
   ]
  },
  {
   "cell_type": "code",
   "execution_count": 22,
   "metadata": {},
   "outputs": [
    {
     "name": "stdout",
     "output_type": "stream",
     "text": [
      "Thickness: 703687441.77664meters\n"
     ]
    }
   ],
   "source": [
    "### using the for statement\n",
    "THICKNESS = 0.00008\n",
    "n_folded = 43\n",
    "for i in range(n_folded):\n",
    "   THICKNESS = THICKNESS*2\n",
    "print(\"Thickness: {}meters\".format(THICKNESS))"
   ]
  },
  {
   "cell_type": "code",
   "execution_count": 23,
   "metadata": {},
   "outputs": [],
   "source": [
    "import time"
   ]
  },
  {
   "cell_type": "code",
   "execution_count": 24,
   "metadata": {},
   "outputs": [
    {
     "name": "stdout",
     "output_type": "stream",
     "text": [
      "time : 58.84146690368652[ms]\n"
     ]
    }
   ],
   "source": [
    "THICKNESS = 0.0000\n",
    "n_folded = 43 #checking that the value is still the same\n",
    "start = time.time()\n",
    "#####\n",
    "folded_thickness = THICKNESS*(2**n_folded) #sitll checking if the value is still the same\n",
    "#####\n",
    "elapsed_time = time.time() - start\n",
    "print(\"time : {}[ms]\".format(elapsed_time*1000))"
   ]
  },
  {
   "cell_type": "code",
   "execution_count": 26,
   "metadata": {},
   "outputs": [
    {
     "name": "stdout",
     "output_type": "stream",
     "text": [
      "time : 0.0[ms]\n"
     ]
    }
   ],
   "source": [
    "THICKNESS = 0.00008\n",
    "n_folded = 43\n",
    "start = time.time()\n",
    "#####\n",
    "folded_thickness = THICKNESS\n",
    "for i in range(n_folded):\n",
    "   folded_thickness = folded_thickness*2\n",
    "#########\n",
    "elapsed_time = time.time() - start\n",
    "print(\"time : {}[ms]\".format(elapsed_time*1000))"
   ]
  },
  {
   "cell_type": "code",
   "execution_count": 33,
   "metadata": {},
   "outputs": [
    {
     "name": "stdout",
     "output_type": "stream",
     "text": [
      "time : 0.0[ms]\n"
     ]
    }
   ],
   "source": [
    "### if i increase the number the number of times from 43 times to 1000 time### if i increase the number the number of times from 43 times to 1000 times\n",
    "### we will see that the for statement is slower\n",
    "THICKNESS = 0.00008\n",
    "n_folder = 1000\n",
    "start = time.time()\n",
    "#####\n",
    "folded_thickness = THICKNESS*(2**n_folded)\n",
    "#####\n",
    "elapsed_time = time.time() - start\n",
    "print(\"time : {}[ms]\".format(elapsed_time*1000))"
   ]
  },
  {
   "cell_type": "code",
   "execution_count": 31,
   "metadata": {},
   "outputs": [
    {
     "name": "stdout",
     "output_type": "stream",
     "text": [
      "Thickness:703687441.77664meters\n",
      "------\n",
      "list\n",
      "[8e-05, 0.00016, 0.00032, 0.00064, 0.00128, 0.00256, 0.00512, 0.01024, 0.02048, 0.04096, 0.08192, 0.16384, 0.32768, 0.65536, 1.31072, 2.62144, 5.24288, 10.48576, 20.97152, 41.94304, 83.88608, 167.77216, 335.54432, 671.08864, 1342.17728, 2684.35456, 5368.70912, 10737.41824, 21474.83648, 42949.67296, 85899.34592, 171798.69184, 343597.38368, 687194.76736, 1374389.53472, 2748779.06944, 5497558.13888, 10995116.27776, 21990232.55552, 43980465.11104, 87960930.22208, 175921860.44416, 351843720.88832, 703687441.77664]\n"
     ]
    }
   ],
   "source": [
    "###Record the thickness each time it is folded, and visualize it in a line graph\n",
    "THICKNESS = 0.00008\n",
    "n_folded = 43\n",
    "folded_thickness_list = [THICKNESS]\n",
    "for i in range(n_folded):\n",
    "   folded_thickness_list.append(folded_thickness_list[-1]*2)\n",
    "print(\"Thickness:{}meters\".format(folded_thickness_list[-1]))\n",
    "print(\"------\")\n",
    "print(\"list\")\n",
    "print(folded_thickness_list)"
   ]
  },
  {
   "cell_type": "code",
   "execution_count": 65,
   "metadata": {},
   "outputs": [
    {
     "data": {
      "image/png": "[encoded data removed]",
      "text/plain": [
       "<Figure size 432x288 with 1 Axes>"
      ]
     },
     "metadata": {
      "needs_background": "light"
     },
     "output_type": "display_data"
    }
   ],
   "source": [
    "\"\"\"\n",
    "View the chart. Title and axis label naming。\n",
    "\"\"\"\n",
    "import matplotlib.pyplot as plt\n",
    "%matplotlib inline\n",
    "plt.title(\"thickness of folded paper\")\n",
    "plt.xlabel(\"number of folds\")\n",
    "plt.ylabel(\"thickness[m]\")\n",
    "plt.plot(folded_thickness_list,linewidth=10)\n",
    "plt.show()"
   ]
  },
  {
   "cell_type": "code",
   "execution_count": 62,
   "metadata": {},
   "outputs": [
    {
     "data": {
      "image/png": "[encoded data removed]",
      "text/plain": [
       "<Figure size 432x288 with 1 Axes>"
      ]
     },
     "metadata": {
      "needs_background": "light"
     },
     "output_type": "display_data"
    }
   ],
   "source": [
    "\"\"\"\n",
    "Display a red line chart.\n",
    "\"\"\"\n",
    "plt.title(\"thickness of folded paper\")\n",
    "plt.xlabel(\"number of folds\")\n",
    "plt.ylabel(\"thickness[m]\")\n",
    "plt.plot(folded_thickness_list, color='green',linestyle='dashed',linewidth=2,marker='o',markersize=12)\n",
    "plt.show()"
   ]
  },
  {
   "cell_type": "code",
   "execution_count": 69,
   "metadata": {},
   "outputs": [
    {
     "data": {
      "image/png": "[encoded data removed]",
      "text/plain": [
       "<Figure size 432x288 with 1 Axes>"
      ]
     },
     "metadata": {
      "needs_background": "light"
     },
     "output_type": "display_data"
    }
   ],
   "source": [
    "\"\"\"\n",
    "Increase the value of the axis.\n",
    "\"\"\"\n",
    "plt.title(\"thickness of folded paper\")\n",
    "plt.xlabel(\"number of folds\")\n",
    "plt.ylabel(\"thickness[m]\")\n",
    "plt.tick_params(labelsize=20)\n",
    "plt.plot(folded_thickness_list,'r+',)\n",
    "plt.show()"
   ]
  },
  {
   "cell_type": "code",
   "execution_count": 75,
   "metadata": {},
   "outputs": [
    {
     "data": {
      "image/png": "[encoded data removed]",
      "text/plain": [
       "<Figure size 432x288 with 1 Axes>"
      ]
     },
     "metadata": {
      "needs_background": "light"
     },
     "output_type": "display_data"
    }
   ],
   "source": [
    "import matplotlib.pyplot as plt\n",
    "import numpy as np\n",
    "\n",
    "\n",
    "x = np.linspace(-np.pi/2, np.pi/2, 31)\n",
    "y = np.cos(x)**3\n",
    "\n",
    "# 1) remove points where y > 0.7\n",
    "x2 = x[y <= 0.7]\n",
    "y2 = y[y <= 0.7]\n",
    "\n",
    "# 2) mask points where y > 0.7\n",
    "y3 = np.ma.masked_where(y > 0.7, y)\n",
    "\n",
    "# 3) set to NaN where y > 0.7\n",
    "y4 = y.copy()\n",
    "y4[y3 > 0.7] = np.nan\n",
    "\n",
    "plt.plot(x*0.1, y, 'o-', color='lightgrey', label='n_folded')\n",
    "plt.plot(x2*0.4, y2, 'o-', label='folded_per ms')\n",
    "plt.plot(x*0.7, y3, 'o-', label='paper_thickness')\n",
    "plt.plot(x*1.0, y4, 'o-', label='total_folded')\n",
    "plt.legend()\n",
    "plt.title('folded_thickness')\n",
    "plt.show()"
   ]
  },
  {
   "cell_type": "code",
   "execution_count": null,
   "metadata": {},
   "outputs": [],
   "source": [
    "### James m Bockarie, I love this work"
   ]
  }
 ],
 "metadata": {
  "kernelspec": {
   "display_name": "Python 3",
   "language": "python",
   "name": "python3"
  },
  "language_info": {
   "codemirror_mode": {
    "name": "ipython",
    "version": 3
   },
   "file_extension": ".py",
   "mimetype": "text/x-python",
   "name": "python",
   "nbconvert_exporter": "python",
   "pygments_lexer": "ipython3",
   "version": "3.8.5"
  }
 },
 "nbformat": 4,
 "nbformat_minor": 4
}
