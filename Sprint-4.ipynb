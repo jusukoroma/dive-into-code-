{
 "cells": [
  {
   "cell_type": "code",
   "execution_count": 1,
   "metadata": {},
   "outputs": [],
   "source": [
    "import pandas as pd\n",
    "import numpy as np\n"
   ]
  },
  {
   "cell_type": "code",
   "execution_count": 2,
   "metadata": {},
   "outputs": [],
   "source": [
    "\n",
    "# developing the model (logistic regression)\n",
    "class ScratchLogisticRegression():\n",
    "    \n",
    "    def __init__(self, num_iter=100, lr=0.01, bias=False, verbose=False):\n",
    "        self.iter = num_iter\n",
    "        self.lr = lr\n",
    "        self.bias = bias\n",
    "        self.verbose = verbose\n",
    "        self.lamda = 1/0.01\n",
    "        self.loss = np.zeros(self.iter)\n",
    "        self.val_loss = np.zeros(self.iter)\n",
    "    \n",
    "    def _check_for_bais(self,X):\n",
    "        if self.bias == True:\n",
    "            x1 = np.ones(X.shape[0])\n",
    "        else:\n",
    "            x1 = np.zeros(X.shape[0])\n",
    "        \n",
    "        return np.concatenate([x1.reshape(-1,1),X],axis=1)\n",
    "    \n",
    "       # 【problem1】Hypothetical function\n",
    "        \n",
    "    def _sigmoid_function(self,X):\n",
    "        linear_model = np.dot(X,self.theta)\n",
    "        \n",
    "        return 1/(1+np.exp(-linear_model))\n",
    "    \n",
    "    def _gradient_descent(self, X, error):\n",
    "        self.tmp = np.append(0,np.ones(X.shape[1]-1))\n",
    "        self.theta -= self.lr*(np.dot(error,X) + self.tmp*self.lamda*self.theta)/len(X)\n",
    "        \n",
    "        #[Problem 4] Objective function\n",
    "    def _loss_function(self, y, y_pred):\n",
    "        return np.mean(-y*np.log(y_pred) -(1-y)*np.log(1-y_pred))+0.5*self.lamda*np.mean(self.theta[1:]**2)\n",
    "        \n",
    "    def fit(self, X, y, X_val=False, y_val=False):\n",
    "        \n",
    "        self.ylabel = np.unique(y)\n",
    "        \n",
    "        y = np.where(y==self.ylabel[0],0,1)\n",
    "        \n",
    "        if (type(y_val) != bool):\n",
    "            y_val = np.where(y_val==self.ylabel[0],0,1)\n",
    "        \n",
    "        X = self._check_for_bais(X)\n",
    "        \n",
    "        self.theta = np.random.rand(X.shape[1])\n",
    "        \n",
    "        for i in range(self.iter):\n",
    "            y_pred = self._sigmoid_function(X)\n",
    "            error = y_pred - y            \n",
    "            self.loss[i] = self._loss_function(y,y_pred)\n",
    "            \n",
    "            if (type(X_val) != bool):\n",
    "                val_X = self._check_for_bais(X_val)\n",
    "                val_ypred = self._sigmoid_function(val_X)\n",
    "                \n",
    "                self.val_loss[i] = self._loss_function(y_val,val_ypred)\n",
    "            \n",
    "            self._gradient_descent(X, error)\n",
    "            \n",
    "            if self.verbose:\n",
    "                print('n_iter:', i,\n",
    "                      'loss:',self.loss[i],\n",
    "                      'theta:',self.theta)\n",
    "            \n",
    "        np.save('theta', self.theta)            \n",
    "\n",
    "    def predict(self, X):\n",
    "        X = self._check_for_bais(X)\n",
    "        y_pred = self._sigmoid_function(X)\n",
    "        \n",
    "        return np.where(y_pred<0.5,self.ylabel[0],self.ylabel[1])\n",
    "    \n",
    "    def predict_proba(self, X):\n",
    "        X = self._check_for_bais(X)\n",
    "        return self._sigmoid_function(X)"
   ]
  },
  {
   "cell_type": "markdown",
   "metadata": {},
   "source": [
    "【problem 3】Estimated"
   ]
  },
  {
   "cell_type": "code",
   "execution_count": 3,
   "metadata": {},
   "outputs": [],
   "source": [
    "# creating datasets\n",
    "from sklearn import datasets\n",
    "data = datasets.load_breast_cancer()\n",
    "X, y = data.data, data.target"
   ]
  },
  {
   "cell_type": "code",
   "execution_count": 4,
   "metadata": {},
   "outputs": [
    {
     "name": "stderr",
     "output_type": "stream",
     "text": [
      "<ipython-input-2-bb489bd5d7db>:34: RuntimeWarning: divide by zero encountered in log\n",
      "  return np.mean(-y*np.log(y_pred) -(1-y)*np.log(1-y_pred))+0.5*self.lamda*np.mean(self.theta[1:]**2)\n",
      "<ipython-input-2-bb489bd5d7db>:34: RuntimeWarning: invalid value encountered in multiply\n",
      "  return np.mean(-y*np.log(y_pred) -(1-y)*np.log(1-y_pred))+0.5*self.lamda*np.mean(self.theta[1:]**2)\n",
      "<ipython-input-2-bb489bd5d7db>:26: RuntimeWarning: overflow encountered in exp\n",
      "  return 1/(1+np.exp(-linear_model))\n"
     ]
    },
    {
     "name": "stdout",
     "output_type": "stream",
     "text": [
      "Labels  [0 1 1 0 1 1 1 1 1 1 0 0 1 0 0 0 1 0 0 0 0 0 1 1 0 1 1 1 1 0 1 0 1 0 1 0 0\n",
      " 0 1 0 0 1 0 1 0 0 1 1 1 0 0 1 0 1 1 1 1 1 1 0 0 0 1 1 0 1 0 0 0 1 0 0 1 1\n",
      " 0 1 1 1 1 1 0 0 0 1 0 1 0 1 0 0 1 0 0 1 1 1 0 1 1 1 1 1 1 1 0 1 0 0 0 1 1\n",
      " 0 0 0]\n",
      "Probability: [2.16474942e-041 1.00000000e+000 1.00000000e+000 3.06229929e-016\n",
      " 1.00000000e+000 1.00000000e+000 1.00000000e+000 1.00000000e+000\n",
      " 1.00000000e+000 1.00000000e+000 1.57226746e-003 5.04335287e-002\n",
      " 1.00000000e+000 1.79156696e-016 4.26185556e-006 2.04798057e-085\n",
      " 1.00000000e+000 1.80507964e-181 4.50363424e-024 5.60950295e-232\n",
      " 5.88920805e-092 1.09827432e-029 1.00000000e+000 1.00000000e+000\n",
      " 1.73869982e-041 7.08533794e-001 1.00000000e+000 1.00000000e+000\n",
      " 1.00000000e+000 8.92066728e-252 1.00000000e+000 1.73629489e-222\n",
      " 9.98927252e-001 2.07235438e-082 1.00000000e+000 1.06683740e-075\n",
      " 9.13733484e-006 9.60359108e-123 9.99999998e-001 3.79954616e-070\n",
      " 6.51455385e-028 1.00000000e+000 2.20145456e-080 1.00000000e+000\n",
      " 7.70994793e-003 5.30878744e-210 1.00000000e+000 1.00000000e+000\n",
      " 1.00000000e+000 3.09207789e-037 4.16243395e-042 1.00000000e+000\n",
      " 4.08137678e-158 1.00000000e+000 1.00000000e+000 1.00000000e+000\n",
      " 1.00000000e+000 1.00000000e+000 1.00000000e+000 0.00000000e+000\n",
      " 1.32253004e-018 2.65044388e-108 1.00000000e+000 1.00000000e+000\n",
      " 1.98729186e-131 1.00000000e+000 1.08681492e-297 1.80040038e-124\n",
      " 1.29298154e-118 1.00000000e+000 4.64708578e-028 2.12776780e-134\n",
      " 1.00000000e+000 1.00000000e+000 1.89148638e-148 1.00000000e+000\n",
      " 1.00000000e+000 1.00000000e+000 9.99999994e-001 1.00000000e+000\n",
      " 2.78289669e-050 2.73472160e-103 1.49862508e-128 1.00000000e+000\n",
      " 2.26264383e-053 1.00000000e+000 3.02975095e-001 1.00000000e+000\n",
      " 8.64297122e-143 1.71770860e-158 1.00000000e+000 1.65217777e-050\n",
      " 3.57179536e-010 5.60476596e-001 1.00000000e+000 1.00000000e+000\n",
      " 7.39271405e-307 1.00000000e+000 1.00000000e+000 1.00000000e+000\n",
      " 1.00000000e+000 1.00000000e+000 1.00000000e+000 1.00000000e+000\n",
      " 1.38663201e-161 1.00000000e+000 2.26709801e-062 7.19702872e-007\n",
      " 2.39671481e-034 9.99999996e-001 9.99999991e-001 2.67745251e-063\n",
      " 6.01961461e-131 5.07370211e-013]\n"
     ]
    }
   ],
   "source": [
    "from sklearn.model_selection import train_test_split\n",
    "# spliting the datasets into training and testing subsets\n",
    "X_train, X_test, y_train, y_test = train_test_split(X, y, test_size=0.2, random_state=0)\n",
    "\n",
    "# creating an instance of our model\n",
    "lr = ScratchLogisticRegression(num_iter=1000, lr=0.001, verbose=False)\n",
    "lr.fit(X_train,y_train,X_test,y_test)\n",
    "y_pred_label = lr.predict(X_test)\n",
    "y_pred_proba = lr.predict_proba(X_test)\n",
    "\n",
    "print(\"Labels \",y_pred_label)\n",
    "print(\"Probability:\",y_pred_proba)"
   ]
  },
  {
   "cell_type": "markdown",
   "metadata": {},
   "source": [
    "[Problem 5] Learning and estimation"
   ]
  },
  {
   "cell_type": "code",
   "execution_count": 5,
   "metadata": {},
   "outputs": [],
   "source": [
    "from sklearn.metrics import accuracy_score, precision_score, recall_score\n",
    "from sklearn.datasets import load_iris"
   ]
  },
  {
   "cell_type": "code",
   "execution_count": 6,
   "metadata": {},
   "outputs": [],
   "source": [
    "iris = load_iris()\n",
    "data = iris.data\n",
    "target = iris.target.reshape(-1,1)\n",
    "iris = np.concatenate([data,target],axis=1)\n",
    "iris = pd.DataFrame(iris)\n",
    "X1 = iris.loc[iris[4]!=0,2:3].values\n",
    "y1 = iris.loc[iris[4]!=0,4].values"
   ]
  },
  {
   "cell_type": "code",
   "execution_count": 7,
   "metadata": {},
   "outputs": [],
   "source": [
    "# spliting the datasets into training and testing subsets\n",
    "X1_train, X1_test, y1_train, y1_test = train_test_split(X1, y1, test_size=0.2, random_state=0)"
   ]
  },
  {
   "cell_type": "code",
   "execution_count": 8,
   "metadata": {},
   "outputs": [
    {
     "name": "stdout",
     "output_type": "stream",
     "text": [
      "y pred: [1. 2. 1. 2. 2. 2. 1. 2. 2. 2. 2. 2. 2. 1. 1. 1. 1. 1. 2. 1.]\n"
     ]
    }
   ],
   "source": [
    "from sklearn.preprocessing import StandardScaler\n",
    "\n",
    "scaler = StandardScaler()\n",
    "scaler.fit(X1_train)\n",
    "X1_train = scaler.transform(X1_train)\n",
    "X1_test= scaler.transform(X1_test)\n",
    "\n",
    "# creating an instance of our model\n",
    "lr_1 = ScratchLogisticRegression(num_iter=500, lr=0.01, verbose=False)\n",
    "lr_1.fit(X1_train, y1_train, X1_test, y1_test)\n",
    "y_pred_label_1 = lr_1.predict(X1_test)\n",
    "y_pred_proba_1 = lr_1.predict_proba(X1_test)\n",
    "\n",
    "print(\"y pred:\",y_pred_label_1)"
   ]
  },
  {
   "cell_type": "code",
   "execution_count": 9,
   "metadata": {},
   "outputs": [
    {
     "name": "stdout",
     "output_type": "stream",
     "text": [
      "-------------\n",
      "accuracy 0.95\n",
      "precision 0.9545454545454545\n",
      "recall 0.95\n"
     ]
    }
   ],
   "source": [
    "accuracy = accuracy_score(y1_test, y_pred_label_1)\n",
    "precision = precision_score(y1_test, y_pred_label_1, average='weighted')\n",
    "recall = recall_score(y1_test, y_pred_label_1, average='weighted')\n",
    "\n",
    "print(\"-------------\")\n",
    "print(\"accuracy\", accuracy)\n",
    "print(\"precision\", precision)\n",
    "print(\"recall\", recall)"
   ]
  },
  {
   "cell_type": "markdown",
   "metadata": {},
   "source": [
    "[Problem 6] Plot of learning curve"
   ]
  },
  {
   "cell_type": "code",
   "execution_count": 10,
   "metadata": {},
   "outputs": [
    {
     "data": {
      "image/png": "[encoded data removed]",
      "text/plain": [
       "<Figure size 1152x648 with 1 Axes>"
      ]
     },
     "metadata": {
      "needs_background": "light"
     },
     "output_type": "display_data"
    }
   ],
   "source": [
    "import matplotlib.pyplot as plt\n",
    "fig,ax = plt.subplots(figsize=(16,9))\n",
    "\n",
    "plt.rcParams[\"font.size\"] = 15\n",
    "plt.scatter(range(len(lr_1.loss)),lr_1.loss,label='Train loss')\n",
    "plt.scatter(range(len(lr_1.val_loss)),lr_1.val_loss,label='Val loss')\n",
    "plt.legend();"
   ]
  },
  {
   "cell_type": "markdown",
   "metadata": {},
   "source": [
    "[Problem 7] Visualization of decision area"
   ]
  },
  {
   "cell_type": "code",
   "execution_count": 11,
   "metadata": {},
   "outputs": [
    {
     "data": {
      "image/png": "[encoded data removed]",
      "text/plain": [
       "<Figure size 432x288 with 1 Axes>"
      ]
     },
     "metadata": {
      "needs_background": "light"
     },
     "output_type": "display_data"
    }
   ],
   "source": [
    "from matplotlib.colors import ListedColormap\n",
    "import matplotlib.patches as mpatches\n",
    "\n",
    "def decision_region(X, y, model, step=0.01, title='decision region', xlabel='xlabel', ylabel='ylabel', target_names=['versicolor', 'virginica']):\n",
    "    # setting\n",
    "    scatter_color = ['red', 'blue']\n",
    "    contourf_color = ['pink', 'skyblue']\n",
    "    n_class = 2\n",
    "    # pred\n",
    "    mesh_f0, mesh_f1  = np.meshgrid(np.arange(np.min(X[:,0])-0.5, np.max(X[:,0])+0.5, step), np.arange(np.min(X[:,1])-0.5, np.max(X[:,1])+0.5, step))\n",
    "    mesh = np.c_[np.ravel(mesh_f0),np.ravel(mesh_f1)]\n",
    "    y_pred = model.predict(mesh).reshape(mesh_f0.shape)\n",
    "    # plot\n",
    "    plt.title(title)\n",
    "    plt.xlabel(xlabel)\n",
    "    plt.ylabel(ylabel)\n",
    "    plt.contourf(mesh_f0, mesh_f1, y_pred, n_class-1, cmap=ListedColormap(contourf_color))\n",
    "    plt.contour(mesh_f0, mesh_f1, y_pred, n_class-1, colors='y', linewidths=3, alpha=0.5)\n",
    "    for i, target in enumerate(set(y)):\n",
    "        plt.scatter(X[y==target][:, 0], X[y==target][:, 1], s=80, color=scatter_color[i], label=target_names[i], marker='o')\n",
    "    patches = [mpatches.Patch(color=scatter_color[i], label=target_names[i]) for i in range(n_class)]\n",
    "    plt.legend(handles=patches)\n",
    "    plt.legend()\n",
    "    plt.show()\n",
    "    \n",
    "decision_region(X1_test, y1_test, lr_1)"
   ]
  }
 ],
 "metadata": {
  "kernelspec": {
   "display_name": "Python 3",
   "language": "python",
   "name": "python3"
  },
  "language_info": {
   "codemirror_mode": {
    "name": "ipython",
    "version": 3
   },
   "file_extension": ".py",
   "mimetype": "text/x-python",
   "name": "python",
   "nbconvert_exporter": "python",
   "pygments_lexer": "ipython3",
   "version": "3.8.5"
  }
 },
 "nbformat": 4,
 "nbformat_minor": 4
}
