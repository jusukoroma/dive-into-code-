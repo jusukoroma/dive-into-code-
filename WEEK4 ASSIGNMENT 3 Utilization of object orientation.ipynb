{
 "cells": [
  {
   "cell_type": "markdown",
   "metadata": {},
   "source": [
    "# [Problem 1] Enumeration of classes used so far"
   ]
  },
  {
   "cell_type": "code",
   "execution_count": 1,
   "metadata": {},
   "outputs": [],
   "source": [
    "import numpy as np\n",
    "from sklearn.preprocessing import StandardScaler\n",
    "from sklearn.datasets import load_iris"
   ]
  },
  {
   "cell_type": "code",
   "execution_count": 2,
   "metadata": {},
   "outputs": [],
   "source": [
    "data = load_iris()\n",
    "X = data.data[:10]"
   ]
  },
  {
   "cell_type": "code",
   "execution_count": 3,
   "metadata": {},
   "outputs": [
    {
     "name": "stdout",
     "output_type": "stream",
     "text": [
      "average : [4.86 3.31 1.45 0.22]\n",
      "dispersion : [0.0764 0.0849 0.0105 0.0056]\n"
     ]
    }
   ],
   "source": [
    "scaler = StandardScaler()\n",
    "scaler.fit(X)\n",
    "print(\"average :\", scaler.mean_)\n",
    "print(\"dispersion :\", scaler.var_)\n",
    "X_std = scaler.transform(X)\n"
   ]
  },
  {
   "cell_type": "code",
   "execution_count": 4,
   "metadata": {},
   "outputs": [
    {
     "name": "stdout",
     "output_type": "stream",
     "text": [
      "StandardScaler()\n"
     ]
    },
    {
     "data": {
      "text/plain": [
       "StandardScaler()"
      ]
     },
     "execution_count": 4,
     "metadata": {},
     "output_type": "execute_result"
    }
   ],
   "source": [
    "scaler0 = StandardScaler()\n",
    "print(scaler0)\n",
    "StandardScaler(copy=True, with_mean=True, with_std=True)"
   ]
  },
  {
   "cell_type": "markdown",
   "metadata": {},
   "source": [
    "**Pandas**<br>\n",
    "- DataFrame()\n",
    "- Series()\n",
    "- Index()\n",
    "- Categorical()\n",
    "\n",
    "**matplotlib**<br>\n",
    "- RcParams()\n",
    "- Parameter()\n",
    "- Path()\n",
    "\n",
    "**scikit-learn**\n",
    "- LinearRegression()\n",
    "- DecisionTreeClassifier()\n",
    "- StandardScaler()"
   ]
  },
  {
   "cell_type": "markdown",
   "metadata": {},
   "source": [
    "### [Problem 2] Enumeration of methods and instance variables used so far"
   ]
  },
  {
   "cell_type": "markdown",
   "metadata": {},
   "source": [
    "**methods**\n",
    "- df.drop()\n",
    "- df.mean()\n",
    "- plt.xlabel()\n",
    "- np.delete()\n",
    "- plt.show()\n",
    "\n",
    "**variables**\n",
    "- np.T\n",
    "- np.data\n",
    "- np.shap\n",
    "- np.ndim\n",
    "- np.size"
   ]
  },
  {
   "cell_type": "markdown",
   "metadata": {},
   "source": [
    "# [Problem 3] Creating a standardized class by scratch"
   ]
  },
  {
   "cell_type": "code",
   "execution_count": 5,
   "metadata": {},
   "outputs": [],
   "source": [
    "class ScratchStandardScaler():\n",
    "    def fit(self, X):\n",
    "        self.mean = np.mean(X, axis=0)\n",
    "        self.var = np.var(X, axis=0)\n",
    "            \n",
    "    def transform(self, X):\n",
    "        X_mean = X.mean(axis=0)\n",
    "        X_std  = X.std(axis=0)\n",
    "        X_scaled = (X - X_mean) / X_std\n",
    "        return X_scaled\n",
    "    \n",
    "         "
   ]
  },
  {
   "cell_type": "code",
   "execution_count": 6,
   "metadata": {},
   "outputs": [
    {
     "name": "stdout",
     "output_type": "stream",
     "text": [
      "mean : [4.86 3.31 1.45 0.22]\n",
      "distributed : [0.0764 0.0849 0.0105 0.0056]\n",
      "[[ 0.86828953  0.65207831 -0.48795004 -0.26726124]\n",
      " [ 0.14471492 -1.06391725 -0.48795004 -0.26726124]\n",
      " [-0.57885968 -0.37751902 -1.46385011 -0.26726124]\n",
      " [-0.94064699 -0.72071813  0.48795004 -0.26726124]\n",
      " [ 0.50650222  0.99527742 -0.48795004 -0.26726124]\n",
      " [ 1.95365143  2.02487476  2.43975018  2.40535118]\n",
      " [-0.94064699  0.3088792  -0.48795004  1.06904497]\n",
      " [ 0.50650222  0.3088792   0.48795004 -0.26726124]\n",
      " [-1.66422159 -1.40711636 -0.48795004 -0.26726124]\n",
      " [ 0.14471492 -0.72071813  0.48795004 -1.60356745]]\n"
     ]
    }
   ],
   "source": [
    "import numpy as np\n",
    "from sklearn.datasets import load_iris\n",
    "data = load_iris()\n",
    "X = data.data[:10]\n",
    "\n",
    "scratch_scaler = ScratchStandardScaler()\n",
    "scratch_scaler.fit(X)\n",
    "\n",
    "print(\"mean : {}\".format(scratch_scaler.mean))\n",
    "print(\"distributed : {}\".format(scratch_scaler.var))\n",
    "\n",
    "X_std = scratch_scaler.transform(X)\n",
    "print(X_std)\n"
   ]
  },
  {
   "cell_type": "markdown",
   "metadata": {},
   "source": [
    "# [Problem 4] Creating a class that performs 4 arithmetic operations"
   ]
  },
  {
   "cell_type": "code",
   "execution_count": 7,
   "metadata": {},
   "outputs": [
    {
     "name": "stdout",
     "output_type": "stream",
     "text": [
      "The initial value 10 has been set\n",
      "value : 10\n",
      " addition value : 14\n",
      "subtraction value : 9\n",
      "multiplication value : 45\n",
      "division value : 15.0\n"
     ]
    }
   ],
   "source": [
    "class ArthCalc():\n",
    "    def __init__(self, value):\n",
    "        if not isinstance(value, (int, float)):\n",
    "            print(\"Enter numbers Only\")\n",
    "        else:\n",
    "            self.value = value\n",
    "            print(\"The initial value {} has been set\".format(self.value))\n",
    "    def add(self, value2):\n",
    "        self.value += value2\n",
    "\n",
    "    def subtraction(self, value):\n",
    "        self.value -= value\n",
    "        \n",
    "    def multiplication(self, value):\n",
    "        self.value *= value\n",
    "        \n",
    "    def division(self, value):\n",
    "        self.value /= value\n",
    "example = ArthCalc(10)\n",
    "print(\"value : {}\".format(example.value))\n",
    "example.add(4)\n",
    "print(\" addition value : {}\".format(example.value))\n",
    "\n",
    "example.subtraction(5)\n",
    "print(\"subtraction value : {}\".format(example.value))\n",
    "\n",
    "example.multiplication(5)\n",
    "print(\"multiplication value : {}\".format(example.value))\n",
    "\n",
    "example.division(3)\n",
    "print(\"division value : {}\".format(example.value))    \n",
    "\n"
   ]
  },
  {
   "cell_type": "code",
   "execution_count": null,
   "metadata": {},
   "outputs": [],
   "source": []
  },
  {
   "cell_type": "code",
   "execution_count": null,
   "metadata": {},
   "outputs": [],
   "source": []
  }
 ],
 "metadata": {
  "kernelspec": {
   "display_name": "Python 3",
   "language": "python",
   "name": "python3"
  },
  "language_info": {
   "codemirror_mode": {
    "name": "ipython",
    "version": 3
   },
   "file_extension": ".py",
   "mimetype": "text/x-python",
   "name": "python",
   "nbconvert_exporter": "python",
   "pygments_lexer": "ipython3",
   "version": "3.8.5"
  }
 },
 "nbformat": 4,
 "nbformat_minor": 4
}
